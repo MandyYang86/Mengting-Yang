{
 "cells": [
  {
   "cell_type": "code",
   "execution_count": 24,
   "metadata": {},
   "outputs": [],
   "source": [
    "import requests\n",
    "import time\n"
   ]
  },
  {
   "cell_type": "code",
   "execution_count": 25,
   "metadata": {},
   "outputs": [
    {
     "name": "stdout",
     "output_type": "stream",
     "text": [
      "2018-02-19 12:00:51\n",
      "{'coord': {'lon': -71.06, 'lat': 42.36}, 'weather': [{'id': 802, 'main': 'Clouds', 'description': 'scattered clouds', 'icon': '03d'}], 'base': 'stations', 'main': {'temp': 279.69, 'pressure': 1033, 'humidity': 60, 'temp_min': 277.15, 'temp_max': 282.15}, 'visibility': 16093, 'wind': {'speed': 7.7, 'deg': 210}, 'clouds': {'all': 40}, 'dt': 1519056900, 'sys': {'type': 1, 'id': 1274, 'message': 0.0047, 'country': 'US', 'sunrise': 1519040038, 'sunset': 1519078955}, 'id': 4930956, 'name': 'Boston', 'cod': 200}\n"
     ]
    }
   ],
   "source": [
    "#Get the current weather information of Boston\n",
    "api_address='http://api.openweathermap.org/data/2.5/weather?appid=119fe664452f079528a64467c793dd7d&q='\n",
    "city = 'Boston'\n",
    "url = api_address + city\n",
    "json_data = requests.get(url).json()\n",
    "print(time.strftime(\"%Y-%m-%d %H:%M:%S\", time.localtime()))\n",
    "print(json_data)"
   ]
  },
  {
   "cell_type": "code",
   "execution_count": 26,
   "metadata": {
    "scrolled": true
   },
   "outputs": [
    {
     "name": "stdout",
     "output_type": "stream",
     "text": [
      "Clouds\n"
     ]
    }
   ],
   "source": [
    "#Get weather status of the weather information:\n",
    "status = json_data['weather'][0]['main']\n",
    "print(status)"
   ]
  }
 ],
 "metadata": {
  "kernelspec": {
   "display_name": "Python 3",
   "language": "python",
   "name": "python3"
  },
  "language_info": {
   "codemirror_mode": {
    "name": "ipython",
    "version": 3
   },
   "file_extension": ".py",
   "mimetype": "text/x-python",
   "name": "python",
   "nbconvert_exporter": "python",
   "pygments_lexer": "ipython3",
   "version": "3.6.4"
  }
 },
 "nbformat": 4,
 "nbformat_minor": 2
}
