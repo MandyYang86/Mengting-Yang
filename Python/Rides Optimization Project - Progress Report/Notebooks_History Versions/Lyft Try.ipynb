{
 "cells": [
  {
   "cell_type": "markdown",
   "metadata": {},
   "source": [
    "### Lyft API try"
   ]
  },
  {
   "cell_type": "code",
   "execution_count": 6,
   "metadata": {},
   "outputs": [],
   "source": [
    "from lyft_rides.auth import ClientCredentialGrant\n",
    "from lyft_rides.session import Session\n",
    "from lyft_rides.auth import AuthorizationCodeGrant"
   ]
  },
  {
   "cell_type": "code",
   "execution_count": 7,
   "metadata": {},
   "outputs": [],
   "source": [
    "auth_flow = ClientCredentialGrant(\n",
    "    'gRUenY4LPYg_',\n",
    "    'dFyiT-f23Jwmo_A7n2xGfzp_WcWvBIi8',\n",
    "    'public',\n",
    "    )\n",
    "session = auth_flow.get_session()"
   ]
  },
  {
   "cell_type": "code",
   "execution_count": 8,
   "metadata": {},
   "outputs": [
    {
     "name": "stdout",
     "output_type": "stream",
     "text": [
      "[{'ride_type': 'lyft_line', 'display_name': 'Lyft Line', 'image_url': 'https://cdn.lyft.com/assets/car_standard.png', 'pricing_details': {'base_charge': 200, 'cost_per_mile': 121, 'cost_per_minute': 22, 'cost_minimum': 475, 'trust_and_service': 200, 'currency': 'USD', 'cancel_penalty_amount': 500}, 'seats': 2}, {'ride_type': 'lyft', 'display_name': 'Lyft', 'image_url': 'https://cdn.lyft.com/assets/car_standard.png', 'pricing_details': {'base_charge': 200, 'cost_per_mile': 121, 'cost_per_minute': 22, 'cost_minimum': 500, 'trust_and_service': 200, 'currency': 'USD', 'cancel_penalty_amount': 500}, 'seats': 4}, {'ride_type': 'lyft_plus', 'display_name': 'Lyft Plus', 'image_url': 'https://cdn.lyft.com/assets/car_plus.png', 'pricing_details': {'base_charge': 300, 'cost_per_mile': 206, 'cost_per_minute': 30, 'cost_minimum': 700, 'trust_and_service': 225, 'currency': 'USD', 'cancel_penalty_amount': 500}, 'seats': 6}, {'ride_type': 'lyft_premier', 'display_name': 'Lyft Premier', 'image_url': 'https://cdn.lyft.com/assets/car_plus.png', 'pricing_details': {'base_charge': 500, 'cost_per_mile': 281, 'cost_per_minute': 50, 'cost_minimum': 900, 'trust_and_service': 225, 'currency': 'USD', 'cancel_penalty_amount': 500}, 'seats': 4}, {'ride_type': 'lyft_lux', 'display_name': 'Lyft Lux', 'image_url': 'https://cdn.lyft.com/assets/car_plus.png', 'pricing_details': {'base_charge': 800, 'cost_per_mile': 381, 'cost_per_minute': 65, 'cost_minimum': 1500, 'trust_and_service': 175, 'currency': 'USD', 'cancel_penalty_amount': 1000}, 'seats': 4}, {'ride_type': 'lyft_luxsuv', 'display_name': 'Lyft Lux SUV', 'image_url': 'https://cdn.lyft.com/assets/car_plus.png', 'pricing_details': {'base_charge': 1500, 'cost_per_mile': 381, 'cost_per_minute': 90, 'cost_minimum': 2500, 'trust_and_service': 175, 'currency': 'USD', 'cancel_penalty_amount': 1000}, 'seats': 6}]\n"
     ]
    }
   ],
   "source": [
    "from lyft_rides.client import LyftRidesClient\n",
    "\n",
    "client = LyftRidesClient(session)\n",
    "response = client.get_ride_types(37.7833, -122.4167)\n",
    "ride_types = response.json.get('ride_types')\n",
    "print(ride_types)"
   ]
  },
  {
   "cell_type": "code",
   "execution_count": 11,
   "metadata": {},
   "outputs": [
    {
     "name": "stdout",
     "output_type": "stream",
     "text": [
      "[{'ride_type': 'lyft_line', 'display_name': 'Lyft Line', 'image_url': 'https://cdn.lyft.com/assets/car_standard.png', 'pricing_details': {'base_charge': 200, 'cost_per_mile': 121, 'cost_per_minute': 22, 'cost_minimum': 475, 'trust_and_service': 200, 'currency': 'USD', 'cancel_penalty_amount': 500}, 'seats': 2}, {'ride_type': 'lyft', 'display_name': 'Lyft', 'image_url': 'https://cdn.lyft.com/assets/car_standard.png', 'pricing_details': {'base_charge': 200, 'cost_per_mile': 121, 'cost_per_minute': 22, 'cost_minimum': 500, 'trust_and_service': 200, 'currency': 'USD', 'cancel_penalty_amount': 500}, 'seats': 4}, {'ride_type': 'lyft_plus', 'display_name': 'Lyft Plus', 'image_url': 'https://cdn.lyft.com/assets/car_plus.png', 'pricing_details': {'base_charge': 300, 'cost_per_mile': 206, 'cost_per_minute': 30, 'cost_minimum': 700, 'trust_and_service': 225, 'currency': 'USD', 'cancel_penalty_amount': 500}, 'seats': 6}, {'ride_type': 'lyft_premier', 'display_name': 'Lyft Premier', 'image_url': 'https://cdn.lyft.com/assets/car_plus.png', 'pricing_details': {'base_charge': 500, 'cost_per_mile': 281, 'cost_per_minute': 50, 'cost_minimum': 900, 'trust_and_service': 225, 'currency': 'USD', 'cancel_penalty_amount': 500}, 'seats': 4}, {'ride_type': 'lyft_lux', 'display_name': 'Lyft Lux', 'image_url': 'https://cdn.lyft.com/assets/car_plus.png', 'pricing_details': {'base_charge': 800, 'cost_per_mile': 381, 'cost_per_minute': 65, 'cost_minimum': 1500, 'trust_and_service': 175, 'currency': 'USD', 'cancel_penalty_amount': 1000}, 'seats': 4}, {'ride_type': 'lyft_luxsuv', 'display_name': 'Lyft Lux SUV', 'image_url': 'https://cdn.lyft.com/assets/car_plus.png', 'pricing_details': {'base_charge': 1500, 'cost_per_mile': 381, 'cost_per_minute': 90, 'cost_minimum': 2500, 'trust_and_service': 175, 'currency': 'USD', 'cancel_penalty_amount': 1000}, 'seats': 6}]\n"
     ]
    }
   ],
   "source": [
    "response = client.get_ride_types(37.7833, -122.4167)\n",
    "ride_types = response.json.get('ride_types')\n",
    "ride_type = ride_types[0].get('ride_type')\n",
    "print(ride_types)"
   ]
  },
  {
   "cell_type": "code",
   "execution_count": 10,
   "metadata": {
    "scrolled": true
   },
   "outputs": [],
   "source": [
    "auth_flow = ClientCredentialGrant(\n",
    "    'gRUenY4LPYg_',\n",
    "    'dFyiT-f23Jwmo_A7n2xGfzp_WcWvBIi8',\n",
    "    'public',\n",
    "    )"
   ]
  }
 ],
 "metadata": {
  "kernelspec": {
   "display_name": "Python 3",
   "language": "python",
   "name": "python3"
  },
  "language_info": {
   "codemirror_mode": {
    "name": "ipython",
    "version": 3
   },
   "file_extension": ".py",
   "mimetype": "text/x-python",
   "name": "python",
   "nbconvert_exporter": "python",
   "pygments_lexer": "ipython3",
   "version": "3.6.4"
  }
 },
 "nbformat": 4,
 "nbformat_minor": 2
}
