{
 "cells": [
  {
   "cell_type": "markdown",
   "metadata": {},
   "source": [
    "# Assignment 2\n",
    "## Mengting Yang"
   ]
  },
  {
   "cell_type": "code",
   "execution_count": 52,
   "metadata": {
    "collapsed": true
   },
   "outputs": [],
   "source": [
    "#import\n",
    "import matplotlib.pyplot as plt\n",
    "import numpy as np\n",
    "import pandas as pd\n",
    "from scipy import stats\n",
    "import seaborn as sns\n",
    "from datetime import datetime\n",
    "from collections import Counter\n",
    "import random\n",
    "from sklearn.cluster import KMeans, DBSCAN\n",
    "from scipy.stats import multivariate_normal\n",
    "from __future__ import print_function\n",
    "import statsmodels.api as sm\n",
    "from sklearn import linear_model\n",
    "from statsmodels.formula.api import ols\n",
    "from sklearn.linear_model import LinearRegression, Ridge, Lasso\n",
    "from sklearn.preprocessing import PolynomialFeatures\n",
    "from sklearn.pipeline import make_pipeline\n",
    "import warnings\n",
    "from sklearn.model_selection import KFold\n",
    "from sklearn.model_selection import train_test_split\n",
    "from sklearn.cross_validation import cross_val_score, cross_val_predict\n",
    "from sklearn import metrics\n",
    "from sklearn.linear_model import LogisticRegression\n",
    "from sklearn import model_selection\n",
    "from sklearn.model_selection import cross_val_score\n",
    "from sklearn.metrics import confusion_matrix\n",
    "from pandas import Series\n",
    "from statsmodels.graphics.tsaplots import plot_acf\n",
    "from scipy import stats\n",
    "from statsmodels.stats.outliers_influence import variance_inflation_factor\n",
    "from sklearn import preprocessing\n",
    "import statsmodels.stats.api as sms\n",
    "from statsmodels.compat import lzip\n",
    "from scipy.stats import boxcox\n",
    "from sklearn.linear_model import LinearRegression, Lasso, Ridge, ElasticNet, SGDRegressor\n",
    "from sklearn.cross_validation import KFold, cross_val_score, train_test_split\n",
    "import pylab as pl\n",
    "\n",
    "warnings.filterwarnings('ignore')\n",
    "\n",
    "%matplotlib inline"
   ]
  },
  {
   "cell_type": "code",
   "execution_count": 53,
   "metadata": {},
   "outputs": [
    {
     "data": {
      "text/html": [
       "<div>\n",
       "<style>\n",
       "    .dataframe thead tr:only-child th {\n",
       "        text-align: right;\n",
       "    }\n",
       "\n",
       "    .dataframe thead th {\n",
       "        text-align: left;\n",
       "    }\n",
       "\n",
       "    .dataframe tbody tr th {\n",
       "        vertical-align: top;\n",
       "    }\n",
       "</style>\n",
       "<table border=\"1\" class=\"dataframe\">\n",
       "  <thead>\n",
       "    <tr style=\"text-align: right;\">\n",
       "      <th></th>\n",
       "      <th>Date</th>\n",
       "      <th>Time</th>\n",
       "      <th>Open</th>\n",
       "      <th>High</th>\n",
       "      <th>Low</th>\n",
       "      <th>Close</th>\n",
       "      <th>Volume</th>\n",
       "      <th>Adj Close</th>\n",
       "      <th>ORCL Return</th>\n",
       "      <th>Gain</th>\n",
       "      <th>SP Adj Close</th>\n",
       "      <th>SP Return</th>\n",
       "    </tr>\n",
       "  </thead>\n",
       "  <tbody>\n",
       "    <tr>\n",
       "      <th>0</th>\n",
       "      <td>1/3/00</td>\n",
       "      <td>Before Finance Recession</td>\n",
       "      <td>31.156250</td>\n",
       "      <td>31.296875</td>\n",
       "      <td>27.906250</td>\n",
       "      <td>29.531250</td>\n",
       "      <td>98114800</td>\n",
       "      <td>26.586586</td>\n",
       "      <td>NaN</td>\n",
       "      <td>NaN</td>\n",
       "      <td>1455.219971</td>\n",
       "      <td>NaN</td>\n",
       "    </tr>\n",
       "    <tr>\n",
       "      <th>1</th>\n",
       "      <td>1/4/00</td>\n",
       "      <td>Before Finance Recession</td>\n",
       "      <td>28.875000</td>\n",
       "      <td>29.656250</td>\n",
       "      <td>26.250000</td>\n",
       "      <td>26.921875</td>\n",
       "      <td>116824800</td>\n",
       "      <td>24.237402</td>\n",
       "      <td>-0.09</td>\n",
       "      <td>0.0</td>\n",
       "      <td>1399.420044</td>\n",
       "      <td>-0.04</td>\n",
       "    </tr>\n",
       "    <tr>\n",
       "      <th>2</th>\n",
       "      <td>1/5/00</td>\n",
       "      <td>Before Finance Recession</td>\n",
       "      <td>25.406250</td>\n",
       "      <td>26.593750</td>\n",
       "      <td>24.000000</td>\n",
       "      <td>25.500000</td>\n",
       "      <td>166054000</td>\n",
       "      <td>22.957310</td>\n",
       "      <td>-0.05</td>\n",
       "      <td>0.0</td>\n",
       "      <td>1402.109985</td>\n",
       "      <td>0.00</td>\n",
       "    </tr>\n",
       "    <tr>\n",
       "      <th>3</th>\n",
       "      <td>1/6/00</td>\n",
       "      <td>Before Finance Recession</td>\n",
       "      <td>25.039049</td>\n",
       "      <td>26.250000</td>\n",
       "      <td>23.671875</td>\n",
       "      <td>24.000000</td>\n",
       "      <td>109880000</td>\n",
       "      <td>21.606882</td>\n",
       "      <td>-0.06</td>\n",
       "      <td>0.0</td>\n",
       "      <td>1403.449951</td>\n",
       "      <td>0.00</td>\n",
       "    </tr>\n",
       "    <tr>\n",
       "      <th>4</th>\n",
       "      <td>1/7/00</td>\n",
       "      <td>Before Finance Recession</td>\n",
       "      <td>23.750000</td>\n",
       "      <td>25.875000</td>\n",
       "      <td>23.390625</td>\n",
       "      <td>25.843750</td>\n",
       "      <td>91755600</td>\n",
       "      <td>23.266783</td>\n",
       "      <td>0.08</td>\n",
       "      <td>1.0</td>\n",
       "      <td>1441.469971</td>\n",
       "      <td>0.03</td>\n",
       "    </tr>\n",
       "  </tbody>\n",
       "</table>\n",
       "</div>"
      ],
      "text/plain": [
       "     Date                      Time       Open       High        Low  \\\n",
       "0  1/3/00  Before Finance Recession  31.156250  31.296875  27.906250   \n",
       "1  1/4/00  Before Finance Recession  28.875000  29.656250  26.250000   \n",
       "2  1/5/00  Before Finance Recession  25.406250  26.593750  24.000000   \n",
       "3  1/6/00  Before Finance Recession  25.039049  26.250000  23.671875   \n",
       "4  1/7/00  Before Finance Recession  23.750000  25.875000  23.390625   \n",
       "\n",
       "       Close     Volume  Adj Close  ORCL Return  Gain  SP Adj Close  SP Return  \n",
       "0  29.531250   98114800  26.586586          NaN   NaN   1455.219971        NaN  \n",
       "1  26.921875  116824800  24.237402        -0.09   0.0   1399.420044      -0.04  \n",
       "2  25.500000  166054000  22.957310        -0.05   0.0   1402.109985       0.00  \n",
       "3  24.000000  109880000  21.606882        -0.06   0.0   1403.449951       0.00  \n",
       "4  25.843750   91755600  23.266783         0.08   1.0   1441.469971       0.03  "
      ]
     },
     "execution_count": 53,
     "metadata": {},
     "output_type": "execute_result"
    }
   ],
   "source": [
    "#load data set\n",
    "orcl = pd.read_csv(\"orcl.csv\", sep=',')\n",
    "orcl.head()"
   ]
  },
  {
   "cell_type": "code",
   "execution_count": 54,
   "metadata": {},
   "outputs": [
    {
     "name": "stdout",
     "output_type": "stream",
     "text": [
      "<class 'pandas.core.frame.DataFrame'>\n",
      "Int64Index: 4543 entries, 0 to 4542\n",
      "Data columns (total 12 columns):\n",
      "Date            4543 non-null datetime64[ns]\n",
      "Time            4543 non-null object\n",
      "Open            4543 non-null float64\n",
      "High            4543 non-null float64\n",
      "Low             4543 non-null float64\n",
      "Close           4543 non-null float64\n",
      "Volume          4543 non-null int64\n",
      "Adj Close       4543 non-null float64\n",
      "ORCL Return     4542 non-null float64\n",
      "Gain            4542 non-null float64\n",
      "SP Adj Close    4543 non-null float64\n",
      "SP Return       4542 non-null float64\n",
      "dtypes: datetime64[ns](1), float64(9), int64(1), object(1)\n",
      "memory usage: 461.4+ KB\n"
     ]
    }
   ],
   "source": [
    "#translate the data fromat from object to date\n",
    "orcl[\"Date\"] = pd.to_datetime(orcl[\"Date\"])\n",
    "orcl.head()\n",
    "orcl.sort_values(by=\"Date\", inplace=True)\n",
    "orcl.info()"
   ]
  },
  {
   "cell_type": "code",
   "execution_count": 55,
   "metadata": {},
   "outputs": [
    {
     "data": {
      "text/html": [
       "<div>\n",
       "<style>\n",
       "    .dataframe thead tr:only-child th {\n",
       "        text-align: right;\n",
       "    }\n",
       "\n",
       "    .dataframe thead th {\n",
       "        text-align: left;\n",
       "    }\n",
       "\n",
       "    .dataframe tbody tr th {\n",
       "        vertical-align: top;\n",
       "    }\n",
       "</style>\n",
       "<table border=\"1\" class=\"dataframe\">\n",
       "  <thead>\n",
       "    <tr style=\"text-align: right;\">\n",
       "      <th></th>\n",
       "      <th>Open</th>\n",
       "      <th>High</th>\n",
       "      <th>Low</th>\n",
       "      <th>Close</th>\n",
       "      <th>Volume</th>\n",
       "      <th>Adj Close</th>\n",
       "      <th>ORCL Return</th>\n",
       "      <th>Gain</th>\n",
       "      <th>SP Adj Close</th>\n",
       "      <th>SP Return</th>\n",
       "    </tr>\n",
       "  </thead>\n",
       "  <tbody>\n",
       "    <tr>\n",
       "      <th>count</th>\n",
       "      <td>4542.000000</td>\n",
       "      <td>4542.000000</td>\n",
       "      <td>4542.000000</td>\n",
       "      <td>4542.000000</td>\n",
       "      <td>4.542000e+03</td>\n",
       "      <td>4542.000000</td>\n",
       "      <td>4542.000000</td>\n",
       "      <td>4542.000000</td>\n",
       "      <td>4542.000000</td>\n",
       "      <td>4542.000000</td>\n",
       "    </tr>\n",
       "    <tr>\n",
       "      <th>mean</th>\n",
       "      <td>25.804298</td>\n",
       "      <td>26.135925</td>\n",
       "      <td>25.479023</td>\n",
       "      <td>25.806853</td>\n",
       "      <td>3.337449e+07</td>\n",
       "      <td>24.043167</td>\n",
       "      <td>0.000456</td>\n",
       "      <td>0.650374</td>\n",
       "      <td>1440.001629</td>\n",
       "      <td>0.000231</td>\n",
       "    </tr>\n",
       "    <tr>\n",
       "      <th>std</th>\n",
       "      <td>11.640533</td>\n",
       "      <td>11.705219</td>\n",
       "      <td>11.579313</td>\n",
       "      <td>11.645016</td>\n",
       "      <td>2.065397e+07</td>\n",
       "      <td>11.526676</td>\n",
       "      <td>0.025411</td>\n",
       "      <td>0.476904</td>\n",
       "      <td>435.598263</td>\n",
       "      <td>0.012397</td>\n",
       "    </tr>\n",
       "    <tr>\n",
       "      <th>min</th>\n",
       "      <td>7.390000</td>\n",
       "      <td>7.960000</td>\n",
       "      <td>7.250000</td>\n",
       "      <td>7.320000</td>\n",
       "      <td>4.013100e+06</td>\n",
       "      <td>6.590098</td>\n",
       "      <td>-0.210000</td>\n",
       "      <td>0.000000</td>\n",
       "      <td>676.530029</td>\n",
       "      <td>-0.090000</td>\n",
       "    </tr>\n",
       "    <tr>\n",
       "      <th>25%</th>\n",
       "      <td>14.470000</td>\n",
       "      <td>14.755000</td>\n",
       "      <td>14.210000</td>\n",
       "      <td>14.470000</td>\n",
       "      <td>1.895878e+07</td>\n",
       "      <td>13.027146</td>\n",
       "      <td>-0.010000</td>\n",
       "      <td>0.000000</td>\n",
       "      <td>1135.057526</td>\n",
       "      <td>0.000000</td>\n",
       "    </tr>\n",
       "    <tr>\n",
       "      <th>50%</th>\n",
       "      <td>23.245000</td>\n",
       "      <td>23.515000</td>\n",
       "      <td>22.889999</td>\n",
       "      <td>23.142500</td>\n",
       "      <td>3.031425e+07</td>\n",
       "      <td>21.019025</td>\n",
       "      <td>0.000000</td>\n",
       "      <td>1.000000</td>\n",
       "      <td>1316.280029</td>\n",
       "      <td>0.000000</td>\n",
       "    </tr>\n",
       "    <tr>\n",
       "      <th>75%</th>\n",
       "      <td>36.007498</td>\n",
       "      <td>36.562500</td>\n",
       "      <td>35.507498</td>\n",
       "      <td>36.075002</td>\n",
       "      <td>4.218850e+07</td>\n",
       "      <td>33.785328</td>\n",
       "      <td>0.010000</td>\n",
       "      <td>1.000000</td>\n",
       "      <td>1655.734955</td>\n",
       "      <td>0.010000</td>\n",
       "    </tr>\n",
       "    <tr>\n",
       "      <th>max</th>\n",
       "      <td>52.759998</td>\n",
       "      <td>53.139999</td>\n",
       "      <td>52.470001</td>\n",
       "      <td>52.799999</td>\n",
       "      <td>2.240888e+08</td>\n",
       "      <td>52.388542</td>\n",
       "      <td>0.210000</td>\n",
       "      <td>1.000000</td>\n",
       "      <td>2839.129883</td>\n",
       "      <td>0.120000</td>\n",
       "    </tr>\n",
       "  </tbody>\n",
       "</table>\n",
       "</div>"
      ],
      "text/plain": [
       "              Open         High          Low        Close        Volume  \\\n",
       "count  4542.000000  4542.000000  4542.000000  4542.000000  4.542000e+03   \n",
       "mean     25.804298    26.135925    25.479023    25.806853  3.337449e+07   \n",
       "std      11.640533    11.705219    11.579313    11.645016  2.065397e+07   \n",
       "min       7.390000     7.960000     7.250000     7.320000  4.013100e+06   \n",
       "25%      14.470000    14.755000    14.210000    14.470000  1.895878e+07   \n",
       "50%      23.245000    23.515000    22.889999    23.142500  3.031425e+07   \n",
       "75%      36.007498    36.562500    35.507498    36.075002  4.218850e+07   \n",
       "max      52.759998    53.139999    52.470001    52.799999  2.240888e+08   \n",
       "\n",
       "         Adj Close  ORCL Return         Gain  SP Adj Close    SP Return  \n",
       "count  4542.000000  4542.000000  4542.000000   4542.000000  4542.000000  \n",
       "mean     24.043167     0.000456     0.650374   1440.001629     0.000231  \n",
       "std      11.526676     0.025411     0.476904    435.598263     0.012397  \n",
       "min       6.590098    -0.210000     0.000000    676.530029    -0.090000  \n",
       "25%      13.027146    -0.010000     0.000000   1135.057526     0.000000  \n",
       "50%      21.019025     0.000000     1.000000   1316.280029     0.000000  \n",
       "75%      33.785328     0.010000     1.000000   1655.734955     0.010000  \n",
       "max      52.388542     0.210000     1.000000   2839.129883     0.120000  "
      ]
     },
     "execution_count": 55,
     "metadata": {},
     "output_type": "execute_result"
    }
   ],
   "source": [
    "#drop all NaN\n",
    "st=orcl.dropna()\n",
    "st.describe()"
   ]
  },
  {
   "cell_type": "code",
   "execution_count": 56,
   "metadata": {},
   "outputs": [
    {
     "data": {
      "text/html": [
       "<div>\n",
       "<style>\n",
       "    .dataframe thead tr:only-child th {\n",
       "        text-align: right;\n",
       "    }\n",
       "\n",
       "    .dataframe thead th {\n",
       "        text-align: left;\n",
       "    }\n",
       "\n",
       "    .dataframe tbody tr th {\n",
       "        vertical-align: top;\n",
       "    }\n",
       "</style>\n",
       "<table border=\"1\" class=\"dataframe\">\n",
       "  <thead>\n",
       "    <tr style=\"text-align: right;\">\n",
       "      <th></th>\n",
       "      <th>Date</th>\n",
       "      <th>Time</th>\n",
       "      <th>Open</th>\n",
       "      <th>High</th>\n",
       "      <th>Low</th>\n",
       "      <th>Close</th>\n",
       "      <th>Volume</th>\n",
       "      <th>Adj Close</th>\n",
       "      <th>ORCL Return</th>\n",
       "      <th>Gain</th>\n",
       "      <th>SP Adj Close</th>\n",
       "      <th>SP Return</th>\n",
       "    </tr>\n",
       "  </thead>\n",
       "  <tbody>\n",
       "    <tr>\n",
       "      <th>1</th>\n",
       "      <td>2000-01-04</td>\n",
       "      <td>Before Finance Recession</td>\n",
       "      <td>28.875000</td>\n",
       "      <td>29.65625</td>\n",
       "      <td>26.250000</td>\n",
       "      <td>26.921875</td>\n",
       "      <td>116824800</td>\n",
       "      <td>24.237402</td>\n",
       "      <td>-0.09</td>\n",
       "      <td>0.0</td>\n",
       "      <td>1399.420044</td>\n",
       "      <td>-0.04</td>\n",
       "    </tr>\n",
       "    <tr>\n",
       "      <th>2</th>\n",
       "      <td>2000-01-05</td>\n",
       "      <td>Before Finance Recession</td>\n",
       "      <td>25.406250</td>\n",
       "      <td>26.59375</td>\n",
       "      <td>24.000000</td>\n",
       "      <td>25.500000</td>\n",
       "      <td>166054000</td>\n",
       "      <td>22.957310</td>\n",
       "      <td>-0.05</td>\n",
       "      <td>0.0</td>\n",
       "      <td>1402.109985</td>\n",
       "      <td>0.00</td>\n",
       "    </tr>\n",
       "    <tr>\n",
       "      <th>3</th>\n",
       "      <td>2000-01-06</td>\n",
       "      <td>Before Finance Recession</td>\n",
       "      <td>25.039049</td>\n",
       "      <td>26.25000</td>\n",
       "      <td>23.671875</td>\n",
       "      <td>24.000000</td>\n",
       "      <td>109880000</td>\n",
       "      <td>21.606882</td>\n",
       "      <td>-0.06</td>\n",
       "      <td>0.0</td>\n",
       "      <td>1403.449951</td>\n",
       "      <td>0.00</td>\n",
       "    </tr>\n",
       "    <tr>\n",
       "      <th>4</th>\n",
       "      <td>2000-01-07</td>\n",
       "      <td>Before Finance Recession</td>\n",
       "      <td>23.750000</td>\n",
       "      <td>25.87500</td>\n",
       "      <td>23.390625</td>\n",
       "      <td>25.843750</td>\n",
       "      <td>91755600</td>\n",
       "      <td>23.266783</td>\n",
       "      <td>0.08</td>\n",
       "      <td>1.0</td>\n",
       "      <td>1441.469971</td>\n",
       "      <td>0.03</td>\n",
       "    </tr>\n",
       "    <tr>\n",
       "      <th>5</th>\n",
       "      <td>2000-01-10</td>\n",
       "      <td>Before Finance Recession</td>\n",
       "      <td>27.000000</td>\n",
       "      <td>29.00000</td>\n",
       "      <td>26.375000</td>\n",
       "      <td>28.937500</td>\n",
       "      <td>91518000</td>\n",
       "      <td>26.052048</td>\n",
       "      <td>0.12</td>\n",
       "      <td>1.0</td>\n",
       "      <td>1457.599976</td>\n",
       "      <td>0.01</td>\n",
       "    </tr>\n",
       "  </tbody>\n",
       "</table>\n",
       "</div>"
      ],
      "text/plain": [
       "        Date                      Time       Open      High        Low  \\\n",
       "1 2000-01-04  Before Finance Recession  28.875000  29.65625  26.250000   \n",
       "2 2000-01-05  Before Finance Recession  25.406250  26.59375  24.000000   \n",
       "3 2000-01-06  Before Finance Recession  25.039049  26.25000  23.671875   \n",
       "4 2000-01-07  Before Finance Recession  23.750000  25.87500  23.390625   \n",
       "5 2000-01-10  Before Finance Recession  27.000000  29.00000  26.375000   \n",
       "\n",
       "       Close     Volume  Adj Close  ORCL Return  Gain  SP Adj Close  SP Return  \n",
       "1  26.921875  116824800  24.237402        -0.09   0.0   1399.420044      -0.04  \n",
       "2  25.500000  166054000  22.957310        -0.05   0.0   1402.109985       0.00  \n",
       "3  24.000000  109880000  21.606882        -0.06   0.0   1403.449951       0.00  \n",
       "4  25.843750   91755600  23.266783         0.08   1.0   1441.469971       0.03  \n",
       "5  28.937500   91518000  26.052048         0.12   1.0   1457.599976       0.01  "
      ]
     },
     "execution_count": 56,
     "metadata": {},
     "output_type": "execute_result"
    }
   ],
   "source": [
    "st.head()"
   ]
  },
  {
   "cell_type": "code",
   "execution_count": 57,
   "metadata": {
    "collapsed": true
   },
   "outputs": [],
   "source": [
    "def set_colors(labels, colors='rgbykcmw'):\n",
    "    colored_labels = []\n",
    "    for label in labels:\n",
    "        if (label < 0) or (label > 6):\n",
    "          colored_labels.append(colors[7]) \n",
    "        else:\n",
    "          colored_labels.append(colors[label])\n",
    "    return colored_labels"
   ]
  },
  {
   "cell_type": "code",
   "execution_count": 58,
   "metadata": {},
   "outputs": [
    {
     "name": "stdout",
     "output_type": "stream",
     "text": [
      "<built-in method max of numpy.ndarray object at 0x11610e080>\n",
      "Counter({2: 1760, 0: 1724, 1: 1058})\n"
     ]
    },
    {
     "data": {
      "image/png": "[encoded data removed]",
      "text/plain": [
       "<matplotlib.figure.Figure at 0x1c2202c208>"
      ]
     },
     "metadata": {},
     "output_type": "display_data"
    }
   ],
   "source": [
    "# Fit a k-means estimator\n",
    "estimator = KMeans(n_clusters=3)\n",
    "X = st[[\"Adj Close\", \"SP Adj Close\"]]\n",
    "estimator.fit(X)\n",
    "# Clusters are given in the labels_ attribute\n",
    "labels = estimator.labels_\n",
    "print(labels.max)\n",
    "print(Counter(labels))\n",
    "\n",
    "colors = set_colors(labels)\n",
    "plt.scatter(st[\"SP Adj Close\"], st[\"Adj Close\"], c=colors)\n",
    "plt.xlabel(\"SP Adj Close\")\n",
    "plt.ylabel(\"Adj Close\")\n",
    "plt.show()"
   ]
  },
  {
   "cell_type": "markdown",
   "metadata": {},
   "source": [
    "When SP Adj Close range from approximately 0-1200, the price of the Adj Close range from 0-30\n",
    "\n",
    "When SP Adj Close range from approximately 1200-1700, the price of the Adj Close range from 10-40\n",
    "\n",
    "When SP Adj Close range from approximately 1700-2500+, the price of the Adj Close range from 30-50+"
   ]
  },
  {
   "cell_type": "code",
   "execution_count": 59,
   "metadata": {},
   "outputs": [
    {
     "name": "stdout",
     "output_type": "stream",
     "text": [
      "Counter({0: 3449, 1: 790, 3: 154, -1: 70, 2: 40, 4: 39})\n"
     ]
    },
    {
     "data": {
      "image/png": "[encoded data removed]",
      "text/plain": [
       "<matplotlib.figure.Figure at 0x1160d47b8>"
      ]
     },
     "metadata": {},
     "output_type": "display_data"
    }
   ],
   "source": [
    "# Fit a DBSCAN estimator\n",
    "estimator = DBSCAN(eps=15, min_samples=15)\n",
    "X = st[[\"Adj Close\", \"SP Adj Close\"]]\n",
    "estimator.fit(X)\n",
    "\n",
    "# Clusters are given in the labels_ attribute\n",
    "labels = estimator.labels_\n",
    "\n",
    "# print labels\n",
    "print(Counter(labels))\n",
    "\n",
    "colors = set_colors(labels)\n",
    "plt.scatter(st[\"SP Adj Close\"], st[\"Adj Close\"], c=colors)\n",
    "plt.xlabel(\"SP Adj Close\")\n",
    "plt.ylabel(\"Adj Close\")\n",
    "plt.show()"
   ]
  },
  {
   "cell_type": "markdown",
   "metadata": {},
   "source": [
    "#### eps : float, optional\n",
    "\n",
    "The maximum distance between two samples for them to be considered as in the same neighborhood.\n",
    "\n",
    "#### min_samples : int, optional\n",
    "\n",
    "The number of samples (or total weight) in a neighborhood for a point to be considered as a core point. This includes the point itself."
   ]
  },
  {
   "cell_type": "markdown",
   "metadata": {},
   "source": [
    "When SP Adj Close range from approximately 0-1700, the price of the Adj Close range from 0-40\n",
    "\n",
    "When SP Adj Close range from approximately 1700-2200, the price of the Adj Close range from 30-40\n",
    "\n",
    "When SP Adj Close range from approximately 1200+, the price of the Adj Close range from 40+"
   ]
  },
  {
   "cell_type": "markdown",
   "metadata": {},
   "source": [
    "### 1）Do the clustering methods generate the same clusters?\n",
    "\n",
    "No\n",
    "\n",
    "### 2）Does scaling effect the clustering?\n",
    "\n",
    "Yes,when eps is too large, most dots will come to one cluster\n",
    "\n",
    "when eps is too small, the cluster will split\n",
    "\n",
    "\n",
    "### 3）Does the clustering produce interesting groupings?  \n",
    "\n",
    "No"
   ]
  },
  {
   "cell_type": "markdown",
   "metadata": {},
   "source": [
    "## Generate a linear model for your data:\n",
    "#### Find a significant linear relation of your choosing in your data. \n",
    "#### Create a multivariate linear model. "
   ]
  },
  {
   "cell_type": "code",
   "execution_count": 60,
   "metadata": {
    "collapsed": true
   },
   "outputs": [],
   "source": [
    "st[\"styear\"]=st[\"Date\"].dt.year"
   ]
  },
  {
   "cell_type": "code",
   "execution_count": 61,
   "metadata": {
    "collapsed": true
   },
   "outputs": [],
   "source": [
    "plt.rcParams['figure.figsize'] = (12, 8)"
   ]
  },
  {
   "cell_type": "markdown",
   "metadata": {},
   "source": [
    "#### try fitting a regression model more than 2 variable "
   ]
  },
  {
   "cell_type": "code",
   "execution_count": 62,
   "metadata": {},
   "outputs": [
    {
     "data": {
      "text/html": [
       "<table class=\"simpletable\">\n",
       "<caption>OLS Regression Results</caption>\n",
       "<tr>\n",
       "  <th>Dep. Variable:</th>        <td>Adj Close</td>    <th>  R-squared:         </th> <td>   1.000</td> \n",
       "</tr>\n",
       "<tr>\n",
       "  <th>Model:</th>                   <td>OLS</td>       <th>  Adj. R-squared:    </th> <td>   1.000</td> \n",
       "</tr>\n",
       "<tr>\n",
       "  <th>Method:</th>             <td>Least Squares</td>  <th>  F-statistic:       </th> <td>2.691e+06</td>\n",
       "</tr>\n",
       "<tr>\n",
       "  <th>Date:</th>             <td>Mon, 12 Feb 2018</td> <th>  Prob (F-statistic):</th>  <td>  0.00</td>  \n",
       "</tr>\n",
       "<tr>\n",
       "  <th>Time:</th>                 <td>14:14:30</td>     <th>  Log-Likelihood:    </th> <td> -2785.7</td> \n",
       "</tr>\n",
       "<tr>\n",
       "  <th>No. Observations:</th>      <td>  4542</td>      <th>  AIC:               </th> <td>   5583.</td> \n",
       "</tr>\n",
       "<tr>\n",
       "  <th>Df Residuals:</th>          <td>  4536</td>      <th>  BIC:               </th> <td>   5622.</td> \n",
       "</tr>\n",
       "<tr>\n",
       "  <th>Df Model:</th>              <td>     6</td>      <th>                     </th>     <td> </td>    \n",
       "</tr>\n",
       "<tr>\n",
       "  <th>Covariance Type:</th>      <td>nonrobust</td>    <th>                     </th>     <td> </td>    \n",
       "</tr>\n",
       "</table>\n",
       "<table class=\"simpletable\">\n",
       "<tr>\n",
       "        <td></td>          <th>coef</th>     <th>std err</th>      <th>t</th>      <th>P>|t|</th>  <th>[0.025</th>    <th>0.975]</th>  \n",
       "</tr>\n",
       "<tr>\n",
       "  <th>SP Adj Close</th> <td>    0.0021</td> <td> 3.14e-05</td> <td>   68.376</td> <td> 0.000</td> <td>    0.002</td> <td>    0.002</td>\n",
       "</tr>\n",
       "<tr>\n",
       "  <th>Open</th>         <td>   -0.0006</td> <td>    0.028</td> <td>   -0.020</td> <td> 0.984</td> <td>   -0.055</td> <td>    0.053</td>\n",
       "</tr>\n",
       "<tr>\n",
       "  <th>High</th>         <td>   -0.2786</td> <td>    0.029</td> <td>   -9.674</td> <td> 0.000</td> <td>   -0.335</td> <td>   -0.222</td>\n",
       "</tr>\n",
       "<tr>\n",
       "  <th>Low</th>          <td>    0.2682</td> <td>    0.026</td> <td>   10.237</td> <td> 0.000</td> <td>    0.217</td> <td>    0.320</td>\n",
       "</tr>\n",
       "<tr>\n",
       "  <th>Close</th>        <td>    0.9334</td> <td>    0.027</td> <td>   33.986</td> <td> 0.000</td> <td>    0.880</td> <td>    0.987</td>\n",
       "</tr>\n",
       "<tr>\n",
       "  <th>styear</th>       <td>   -0.0013</td> <td> 1.34e-05</td> <td>  -99.478</td> <td> 0.000</td> <td>   -0.001</td> <td>   -0.001</td>\n",
       "</tr>\n",
       "</table>\n",
       "<table class=\"simpletable\">\n",
       "<tr>\n",
       "  <th>Omnibus:</th>       <td> 0.331</td> <th>  Durbin-Watson:     </th> <td>   0.079</td>\n",
       "</tr>\n",
       "<tr>\n",
       "  <th>Prob(Omnibus):</th> <td> 0.847</td> <th>  Jarque-Bera (JB):  </th> <td>   0.282</td>\n",
       "</tr>\n",
       "<tr>\n",
       "  <th>Skew:</th>          <td> 0.006</td> <th>  Prob(JB):          </th> <td>   0.869</td>\n",
       "</tr>\n",
       "<tr>\n",
       "  <th>Kurtosis:</th>      <td> 3.037</td> <th>  Cond. No.          </th> <td>1.84e+04</td>\n",
       "</tr>\n",
       "</table>"
      ],
      "text/plain": [
       "<class 'statsmodels.iolib.summary.Summary'>\n",
       "\"\"\"\n",
       "                            OLS Regression Results                            \n",
       "==============================================================================\n",
       "Dep. Variable:              Adj Close   R-squared:                       1.000\n",
       "Model:                            OLS   Adj. R-squared:                  1.000\n",
       "Method:                 Least Squares   F-statistic:                 2.691e+06\n",
       "Date:                Mon, 12 Feb 2018   Prob (F-statistic):               0.00\n",
       "Time:                        14:14:30   Log-Likelihood:                -2785.7\n",
       "No. Observations:                4542   AIC:                             5583.\n",
       "Df Residuals:                    4536   BIC:                             5622.\n",
       "Df Model:                           6                                         \n",
       "Covariance Type:            nonrobust                                         \n",
       "================================================================================\n",
       "                   coef    std err          t      P>|t|      [0.025      0.975]\n",
       "--------------------------------------------------------------------------------\n",
       "SP Adj Close     0.0021   3.14e-05     68.376      0.000       0.002       0.002\n",
       "Open            -0.0006      0.028     -0.020      0.984      -0.055       0.053\n",
       "High            -0.2786      0.029     -9.674      0.000      -0.335      -0.222\n",
       "Low              0.2682      0.026     10.237      0.000       0.217       0.320\n",
       "Close            0.9334      0.027     33.986      0.000       0.880       0.987\n",
       "styear          -0.0013   1.34e-05    -99.478      0.000      -0.001      -0.001\n",
       "==============================================================================\n",
       "Omnibus:                        0.331   Durbin-Watson:                   0.079\n",
       "Prob(Omnibus):                  0.847   Jarque-Bera (JB):                0.282\n",
       "Skew:                           0.006   Prob(JB):                        0.869\n",
       "Kurtosis:                       3.037   Cond. No.                     1.84e+04\n",
       "==============================================================================\n",
       "\n",
       "Warnings:\n",
       "[1] Standard Errors assume that the covariance matrix of the errors is correctly specified.\n",
       "[2] The condition number is large, 1.84e+04. This might indicate that there are\n",
       "strong multicollinearity or other numerical problems.\n",
       "\"\"\""
      ]
     },
     "execution_count": 62,
     "metadata": {},
     "output_type": "execute_result"
    }
   ],
   "source": [
    "X = st[[\"SP Adj Close\", \"Open\",\"High\",\"Low\",\"Close\",\"styear\"]]\n",
    "y = st[\"Adj Close\"]\n",
    "model = sm.OLS(y, X).fit()\n",
    "predictions = model.predict(X)\n",
    "model.summary()"
   ]
  },
  {
   "cell_type": "markdown",
   "metadata": {},
   "source": [
    "### In in multiple regression models rank the most significant predictor variables and exclude insignificant ones from the model.\n",
    " \n",
    " #### Identify the independent variable that has the largest absolute value for its standardized coefficient.\n",
    " #### the largest absolute value is \"Close\t\"(0.9334)\n",
    " #### exclude insignificant ones: SP Adj Close, Open, styear"
   ]
  },
  {
   "cell_type": "code",
   "execution_count": 63,
   "metadata": {},
   "outputs": [
    {
     "data": {
      "text/html": [
       "<table class=\"simpletable\">\n",
       "<caption>OLS Regression Results</caption>\n",
       "<tr>\n",
       "  <th>Dep. Variable:</th>        <td>Adj Close</td>    <th>  R-squared:         </th> <td>   0.999</td> \n",
       "</tr>\n",
       "<tr>\n",
       "  <th>Model:</th>                   <td>OLS</td>       <th>  Adj. R-squared:    </th> <td>   0.999</td> \n",
       "</tr>\n",
       "<tr>\n",
       "  <th>Method:</th>             <td>Least Squares</td>  <th>  F-statistic:       </th> <td>1.664e+06</td>\n",
       "</tr>\n",
       "<tr>\n",
       "  <th>Date:</th>             <td>Mon, 12 Feb 2018</td> <th>  Prob (F-statistic):</th>  <td>  0.00</td>  \n",
       "</tr>\n",
       "<tr>\n",
       "  <th>Time:</th>                 <td>14:14:30</td>     <th>  Log-Likelihood:    </th> <td> -5452.0</td> \n",
       "</tr>\n",
       "<tr>\n",
       "  <th>No. Observations:</th>      <td>  4542</td>      <th>  AIC:               </th> <td>1.091e+04</td>\n",
       "</tr>\n",
       "<tr>\n",
       "  <th>Df Residuals:</th>          <td>  4539</td>      <th>  BIC:               </th> <td>1.093e+04</td>\n",
       "</tr>\n",
       "<tr>\n",
       "  <th>Df Model:</th>              <td>     3</td>      <th>                     </th>     <td> </td>    \n",
       "</tr>\n",
       "<tr>\n",
       "  <th>Covariance Type:</th>      <td>nonrobust</td>    <th>                     </th>     <td> </td>    \n",
       "</tr>\n",
       "</table>\n",
       "<table class=\"simpletable\">\n",
       "<tr>\n",
       "    <td></td>       <th>coef</th>     <th>std err</th>      <th>t</th>      <th>P>|t|</th>  <th>[0.025</th>    <th>0.975]</th>  \n",
       "</tr>\n",
       "<tr>\n",
       "  <th>High</th>  <td>   -0.8249</td> <td>    0.029</td> <td>  -28.475</td> <td> 0.000</td> <td>   -0.882</td> <td>   -0.768</td>\n",
       "</tr>\n",
       "<tr>\n",
       "  <th>Low</th>   <td>    0.7752</td> <td>    0.028</td> <td>   27.413</td> <td> 0.000</td> <td>    0.720</td> <td>    0.831</td>\n",
       "</tr>\n",
       "<tr>\n",
       "  <th>Close</th> <td>    1.0093</td> <td>    0.040</td> <td>   25.162</td> <td> 0.000</td> <td>    0.931</td> <td>    1.088</td>\n",
       "</tr>\n",
       "</table>\n",
       "<table class=\"simpletable\">\n",
       "<tr>\n",
       "  <th>Omnibus:</th>       <td>1400.088</td> <th>  Durbin-Watson:     </th> <td>   0.185</td>\n",
       "</tr>\n",
       "<tr>\n",
       "  <th>Prob(Omnibus):</th>  <td> 0.000</td>  <th>  Jarque-Bera (JB):  </th> <td>3833.275</td>\n",
       "</tr>\n",
       "<tr>\n",
       "  <th>Skew:</th>           <td> 1.647</td>  <th>  Prob(JB):          </th> <td>    0.00</td>\n",
       "</tr>\n",
       "<tr>\n",
       "  <th>Kurtosis:</th>       <td> 6.067</td>  <th>  Cond. No.          </th> <td>    202.</td>\n",
       "</tr>\n",
       "</table>"
      ],
      "text/plain": [
       "<class 'statsmodels.iolib.summary.Summary'>\n",
       "\"\"\"\n",
       "                            OLS Regression Results                            \n",
       "==============================================================================\n",
       "Dep. Variable:              Adj Close   R-squared:                       0.999\n",
       "Model:                            OLS   Adj. R-squared:                  0.999\n",
       "Method:                 Least Squares   F-statistic:                 1.664e+06\n",
       "Date:                Mon, 12 Feb 2018   Prob (F-statistic):               0.00\n",
       "Time:                        14:14:30   Log-Likelihood:                -5452.0\n",
       "No. Observations:                4542   AIC:                         1.091e+04\n",
       "Df Residuals:                    4539   BIC:                         1.093e+04\n",
       "Df Model:                           3                                         \n",
       "Covariance Type:            nonrobust                                         \n",
       "==============================================================================\n",
       "                 coef    std err          t      P>|t|      [0.025      0.975]\n",
       "------------------------------------------------------------------------------\n",
       "High          -0.8249      0.029    -28.475      0.000      -0.882      -0.768\n",
       "Low            0.7752      0.028     27.413      0.000       0.720       0.831\n",
       "Close          1.0093      0.040     25.162      0.000       0.931       1.088\n",
       "==============================================================================\n",
       "Omnibus:                     1400.088   Durbin-Watson:                   0.185\n",
       "Prob(Omnibus):                  0.000   Jarque-Bera (JB):             3833.275\n",
       "Skew:                           1.647   Prob(JB):                         0.00\n",
       "Kurtosis:                       6.067   Cond. No.                         202.\n",
       "==============================================================================\n",
       "\n",
       "Warnings:\n",
       "[1] Standard Errors assume that the covariance matrix of the errors is correctly specified.\n",
       "\"\"\""
      ]
     },
     "execution_count": 63,
     "metadata": {},
     "output_type": "execute_result"
    }
   ],
   "source": [
    "#after remove\n",
    "X = st[[\"High\",\"Low\",\"Close\"]]\n",
    "y = st[\"Adj Close\"]\n",
    "model = sm.OLS(y, X).fit()\n",
    "predictions = model.predict(X)\n",
    "model.summary()"
   ]
  },
  {
   "cell_type": "markdown",
   "metadata": {},
   "source": [
    "### In the multiple regression models are predictor variables independent of all the other predictor variables?   "
   ]
  },
  {
   "cell_type": "code",
   "execution_count": 64,
   "metadata": {},
   "outputs": [
    {
     "data": {
      "text/html": [
       "<div>\n",
       "<style>\n",
       "    .dataframe thead tr:only-child th {\n",
       "        text-align: right;\n",
       "    }\n",
       "\n",
       "    .dataframe thead th {\n",
       "        text-align: left;\n",
       "    }\n",
       "\n",
       "    .dataframe tbody tr th {\n",
       "        vertical-align: top;\n",
       "    }\n",
       "</style>\n",
       "<table border=\"1\" class=\"dataframe\">\n",
       "  <thead>\n",
       "    <tr style=\"text-align: right;\">\n",
       "      <th></th>\n",
       "      <th>Open</th>\n",
       "      <th>High</th>\n",
       "      <th>Low</th>\n",
       "      <th>Close</th>\n",
       "      <th>Volume</th>\n",
       "      <th>Adj Close</th>\n",
       "      <th>ORCL Return</th>\n",
       "      <th>Gain</th>\n",
       "      <th>SP Adj Close</th>\n",
       "      <th>SP Return</th>\n",
       "      <th>styear</th>\n",
       "    </tr>\n",
       "  </thead>\n",
       "  <tbody>\n",
       "    <tr>\n",
       "      <th>Open</th>\n",
       "      <td>1.000000</td>\n",
       "      <td>0.999428</td>\n",
       "      <td>0.999335</td>\n",
       "      <td>0.998971</td>\n",
       "      <td>-0.505426</td>\n",
       "      <td>0.997072</td>\n",
       "      <td>-0.007474</td>\n",
       "      <td>0.098643</td>\n",
       "      <td>0.855068</td>\n",
       "      <td>0.013304</td>\n",
       "      <td>0.749641</td>\n",
       "    </tr>\n",
       "    <tr>\n",
       "      <th>High</th>\n",
       "      <td>0.999428</td>\n",
       "      <td>1.000000</td>\n",
       "      <td>0.998830</td>\n",
       "      <td>0.999408</td>\n",
       "      <td>-0.495115</td>\n",
       "      <td>0.996865</td>\n",
       "      <td>0.008473</td>\n",
       "      <td>0.106165</td>\n",
       "      <td>0.851032</td>\n",
       "      <td>0.020062</td>\n",
       "      <td>0.740275</td>\n",
       "    </tr>\n",
       "    <tr>\n",
       "      <th>Low</th>\n",
       "      <td>0.999335</td>\n",
       "      <td>0.998830</td>\n",
       "      <td>1.000000</td>\n",
       "      <td>0.999353</td>\n",
       "      <td>-0.518623</td>\n",
       "      <td>0.998153</td>\n",
       "      <td>0.008260</td>\n",
       "      <td>0.114419</td>\n",
       "      <td>0.859730</td>\n",
       "      <td>0.021731</td>\n",
       "      <td>0.760792</td>\n",
       "    </tr>\n",
       "    <tr>\n",
       "      <th>Close</th>\n",
       "      <td>0.998971</td>\n",
       "      <td>0.999408</td>\n",
       "      <td>0.999353</td>\n",
       "      <td>1.000000</td>\n",
       "      <td>-0.506905</td>\n",
       "      <td>0.998089</td>\n",
       "      <td>0.026121</td>\n",
       "      <td>0.122768</td>\n",
       "      <td>0.855524</td>\n",
       "      <td>0.032697</td>\n",
       "      <td>0.751213</td>\n",
       "    </tr>\n",
       "    <tr>\n",
       "      <th>Volume</th>\n",
       "      <td>-0.505426</td>\n",
       "      <td>-0.495115</td>\n",
       "      <td>-0.518623</td>\n",
       "      <td>-0.506905</td>\n",
       "      <td>1.000000</td>\n",
       "      <td>-0.518161</td>\n",
       "      <td>-0.029669</td>\n",
       "      <td>-0.166845</td>\n",
       "      <td>-0.506970</td>\n",
       "      <td>-0.027943</td>\n",
       "      <td>-0.596151</td>\n",
       "    </tr>\n",
       "    <tr>\n",
       "      <th>Adj Close</th>\n",
       "      <td>0.997072</td>\n",
       "      <td>0.996865</td>\n",
       "      <td>0.998153</td>\n",
       "      <td>0.998089</td>\n",
       "      <td>-0.518161</td>\n",
       "      <td>1.000000</td>\n",
       "      <td>0.024270</td>\n",
       "      <td>0.125374</td>\n",
       "      <td>0.878033</td>\n",
       "      <td>0.031988</td>\n",
       "      <td>0.771808</td>\n",
       "    </tr>\n",
       "    <tr>\n",
       "      <th>ORCL Return</th>\n",
       "      <td>-0.007474</td>\n",
       "      <td>0.008473</td>\n",
       "      <td>0.008260</td>\n",
       "      <td>0.026121</td>\n",
       "      <td>-0.029669</td>\n",
       "      <td>0.024270</td>\n",
       "      <td>1.000000</td>\n",
       "      <td>0.658253</td>\n",
       "      <td>0.007463</td>\n",
       "      <td>0.593739</td>\n",
       "      <td>0.007389</td>\n",
       "    </tr>\n",
       "    <tr>\n",
       "      <th>Gain</th>\n",
       "      <td>0.098643</td>\n",
       "      <td>0.106165</td>\n",
       "      <td>0.114419</td>\n",
       "      <td>0.122768</td>\n",
       "      <td>-0.166845</td>\n",
       "      <td>0.125374</td>\n",
       "      <td>0.658253</td>\n",
       "      <td>1.000000</td>\n",
       "      <td>0.133625</td>\n",
       "      <td>0.467362</td>\n",
       "      <td>0.146290</td>\n",
       "    </tr>\n",
       "    <tr>\n",
       "      <th>SP Adj Close</th>\n",
       "      <td>0.855068</td>\n",
       "      <td>0.851032</td>\n",
       "      <td>0.859730</td>\n",
       "      <td>0.855524</td>\n",
       "      <td>-0.506970</td>\n",
       "      <td>0.878033</td>\n",
       "      <td>0.007463</td>\n",
       "      <td>0.133625</td>\n",
       "      <td>1.000000</td>\n",
       "      <td>0.029427</td>\n",
       "      <td>0.747507</td>\n",
       "    </tr>\n",
       "    <tr>\n",
       "      <th>SP Return</th>\n",
       "      <td>0.013304</td>\n",
       "      <td>0.020062</td>\n",
       "      <td>0.021731</td>\n",
       "      <td>0.032697</td>\n",
       "      <td>-0.027943</td>\n",
       "      <td>0.031988</td>\n",
       "      <td>0.593739</td>\n",
       "      <td>0.467362</td>\n",
       "      <td>0.029427</td>\n",
       "      <td>1.000000</td>\n",
       "      <td>0.023124</td>\n",
       "    </tr>\n",
       "    <tr>\n",
       "      <th>styear</th>\n",
       "      <td>0.749641</td>\n",
       "      <td>0.740275</td>\n",
       "      <td>0.760792</td>\n",
       "      <td>0.751213</td>\n",
       "      <td>-0.596151</td>\n",
       "      <td>0.771808</td>\n",
       "      <td>0.007389</td>\n",
       "      <td>0.146290</td>\n",
       "      <td>0.747507</td>\n",
       "      <td>0.023124</td>\n",
       "      <td>1.000000</td>\n",
       "    </tr>\n",
       "  </tbody>\n",
       "</table>\n",
       "</div>"
      ],
      "text/plain": [
       "                  Open      High       Low     Close    Volume  Adj Close  \\\n",
       "Open          1.000000  0.999428  0.999335  0.998971 -0.505426   0.997072   \n",
       "High          0.999428  1.000000  0.998830  0.999408 -0.495115   0.996865   \n",
       "Low           0.999335  0.998830  1.000000  0.999353 -0.518623   0.998153   \n",
       "Close         0.998971  0.999408  0.999353  1.000000 -0.506905   0.998089   \n",
       "Volume       -0.505426 -0.495115 -0.518623 -0.506905  1.000000  -0.518161   \n",
       "Adj Close     0.997072  0.996865  0.998153  0.998089 -0.518161   1.000000   \n",
       "ORCL Return  -0.007474  0.008473  0.008260  0.026121 -0.029669   0.024270   \n",
       "Gain          0.098643  0.106165  0.114419  0.122768 -0.166845   0.125374   \n",
       "SP Adj Close  0.855068  0.851032  0.859730  0.855524 -0.506970   0.878033   \n",
       "SP Return     0.013304  0.020062  0.021731  0.032697 -0.027943   0.031988   \n",
       "styear        0.749641  0.740275  0.760792  0.751213 -0.596151   0.771808   \n",
       "\n",
       "              ORCL Return      Gain  SP Adj Close  SP Return    styear  \n",
       "Open            -0.007474  0.098643      0.855068   0.013304  0.749641  \n",
       "High             0.008473  0.106165      0.851032   0.020062  0.740275  \n",
       "Low              0.008260  0.114419      0.859730   0.021731  0.760792  \n",
       "Close            0.026121  0.122768      0.855524   0.032697  0.751213  \n",
       "Volume          -0.029669 -0.166845     -0.506970  -0.027943 -0.596151  \n",
       "Adj Close        0.024270  0.125374      0.878033   0.031988  0.771808  \n",
       "ORCL Return      1.000000  0.658253      0.007463   0.593739  0.007389  \n",
       "Gain             0.658253  1.000000      0.133625   0.467362  0.146290  \n",
       "SP Adj Close     0.007463  0.133625      1.000000   0.029427  0.747507  \n",
       "SP Return        0.593739  0.467362      0.029427   1.000000  0.023124  \n",
       "styear           0.007389  0.146290      0.747507   0.023124  1.000000  "
      ]
     },
     "execution_count": 64,
     "metadata": {},
     "output_type": "execute_result"
    }
   ],
   "source": [
    "st.corr()"
   ]
  },
  {
   "cell_type": "markdown",
   "metadata": {},
   "source": [
    "No, High, Low and Close also related to Open, Adj Close, SP Adj Close"
   ]
  },
  {
   "cell_type": "markdown",
   "metadata": {},
   "source": [
    "### Is there any multi-colinearity in the model? "
   ]
  },
  {
   "cell_type": "code",
   "execution_count": 65,
   "metadata": {},
   "outputs": [
    {
     "name": "stdout",
     "output_type": "stream",
     "text": [
      "           High       Low     Close\n",
      "High   1.000000  0.998830  0.999408\n",
      "Low    0.998830  1.000000  0.999353\n",
      "Close  0.999408  0.999353  1.000000\n"
     ]
    },
    {
     "data": {
      "text/plain": [
       "<matplotlib.axes._subplots.AxesSubplot at 0x1c21ca3198>"
      ]
     },
     "execution_count": 65,
     "metadata": {},
     "output_type": "execute_result"
    },
    {
     "data": {
      "image/png": "[encoded data removed]",
      "text/plain": [
       "<matplotlib.figure.Figure at 0x1c21cd0f98>"
      ]
     },
     "metadata": {},
     "output_type": "display_data"
    }
   ],
   "source": [
    "cmap = sns.diverging_palette(0, 255, sep=1, n=256, as_cmap=True)\n",
    "\n",
    "correlations = st[['High','Low', 'Close']].corr()\n",
    "print (correlations)\n",
    "sns.heatmap(correlations, cmap=cmap)"
   ]
  },
  {
   "cell_type": "markdown",
   "metadata": {},
   "source": [
    "Yes, There are multi-colinearity in the model"
   ]
  },
  {
   "cell_type": "markdown",
   "metadata": {},
   "source": [
    "### Are any model assumptions violated?"
   ]
  },
  {
   "cell_type": "markdown",
   "metadata": {},
   "source": [
    "#### Linear relationship\n",
    "linear regression needs the relationship between the independent and dependent variables to be linear. So yes, they are linear"
   ]
  },
  {
   "cell_type": "markdown",
   "metadata": {},
   "source": [
    "#### Multivariate normality\n",
    "the linear regression analysis requires all variables to be multivariate normal."
   ]
  },
  {
   "cell_type": "code",
   "execution_count": 66,
   "metadata": {
    "scrolled": false
   },
   "outputs": [
    {
     "data": {
      "image/png": "[encoded data removed]",
      "text/plain": [
       "<matplotlib.figure.Figure at 0x1c21cd09b0>"
      ]
     },
     "metadata": {},
     "output_type": "display_data"
    }
   ],
   "source": [
    "# Multivariate normality\n",
    "st.exog = sm.add_constant( st['High'])\n",
    "mod_fit = sm.OLS(st['High'],y).fit()\n",
    "res = mod_fit.resid # residuals\n",
    "fig = sm.qqplot(res)\n",
    "plt.show()"
   ]
  },
  {
   "cell_type": "code",
   "execution_count": 67,
   "metadata": {
    "scrolled": false
   },
   "outputs": [
    {
     "data": {
      "image/png": "[encoded data removed]",
      "text/plain": [
       "<matplotlib.figure.Figure at 0x1c21cd08d0>"
      ]
     },
     "metadata": {},
     "output_type": "display_data"
    }
   ],
   "source": [
    "# Multivariate normality\n",
    "st.exog = sm.add_constant( st['Low'])\n",
    "mod_fit = sm.OLS(st['Low'],y).fit()\n",
    "res = mod_fit.resid # residuals\n",
    "fig = sm.qqplot(res)\n",
    "plt.show()"
   ]
  },
  {
   "cell_type": "code",
   "execution_count": 68,
   "metadata": {
    "scrolled": false
   },
   "outputs": [
    {
     "data": {
      "image/png": "[encoded data removed]",
      "text/plain": [
       "<matplotlib.figure.Figure at 0x11a29bbe0>"
      ]
     },
     "metadata": {},
     "output_type": "display_data"
    }
   ],
   "source": [
    "# Multivariate normality\n",
    "st.exog = sm.add_constant( st['Close'])\n",
    "mod_fit = sm.OLS(st['Close'],y).fit()\n",
    "res = mod_fit.resid # residuals\n",
    "fig = sm.qqplot(res)\n",
    "plt.show()"
   ]
  },
  {
   "cell_type": "markdown",
   "metadata": {},
   "source": [
    "Nearly Normal Distribution"
   ]
  },
  {
   "cell_type": "markdown",
   "metadata": {},
   "source": [
    "#### No or little multicollinearity"
   ]
  },
  {
   "cell_type": "code",
   "execution_count": 69,
   "metadata": {
    "collapsed": true
   },
   "outputs": [],
   "source": [
    "vif = pd.DataFrame()\n",
    "vif[\"VIF Factor\"] = [variance_inflation_factor(X.values, i) for i in range(X.shape[1])]\n",
    "vif[\"features\"] = X.columns"
   ]
  },
  {
   "cell_type": "code",
   "execution_count": 70,
   "metadata": {
    "scrolled": true
   },
   "outputs": [
    {
     "data": {
      "text/html": [
       "<div>\n",
       "<style>\n",
       "    .dataframe thead tr:only-child th {\n",
       "        text-align: right;\n",
       "    }\n",
       "\n",
       "    .dataframe thead th {\n",
       "        text-align: left;\n",
       "    }\n",
       "\n",
       "    .dataframe tbody tr th {\n",
       "        vertical-align: top;\n",
       "    }\n",
       "</style>\n",
       "<table border=\"1\" class=\"dataframe\">\n",
       "  <thead>\n",
       "    <tr style=\"text-align: right;\">\n",
       "      <th></th>\n",
       "      <th>VIF Factor</th>\n",
       "      <th>features</th>\n",
       "    </tr>\n",
       "  </thead>\n",
       "  <tbody>\n",
       "    <tr>\n",
       "      <th>0</th>\n",
       "      <td>4837.2</td>\n",
       "      <td>High</td>\n",
       "    </tr>\n",
       "    <tr>\n",
       "      <th>1</th>\n",
       "      <td>4402.1</td>\n",
       "      <td>Low</td>\n",
       "    </tr>\n",
       "    <tr>\n",
       "      <th>2</th>\n",
       "      <td>9063.5</td>\n",
       "      <td>Close</td>\n",
       "    </tr>\n",
       "  </tbody>\n",
       "</table>\n",
       "</div>"
      ],
      "text/plain": [
       "   VIF Factor features\n",
       "0      4837.2     High\n",
       "1      4402.1      Low\n",
       "2      9063.5    Close"
      ]
     },
     "execution_count": 70,
     "metadata": {},
     "output_type": "execute_result"
    }
   ],
   "source": [
    "vif.round(1)"
   ]
  },
  {
   "cell_type": "markdown",
   "metadata": {},
   "source": [
    "There are high multicolinearity."
   ]
  },
  {
   "cell_type": "code",
   "execution_count": 71,
   "metadata": {
    "collapsed": true
   },
   "outputs": [],
   "source": [
    "#center the variables\n",
    "x_centered = preprocessing.scale(X, with_mean='True', with_std='False')\n",
    "\n",
    "#convert back into a Pandas dataframe and add column names\n",
    "x_centered_df = pd.DataFrame(x_centered, columns=X.columns)"
   ]
  },
  {
   "cell_type": "code",
   "execution_count": 72,
   "metadata": {
    "collapsed": true
   },
   "outputs": [],
   "source": [
    "vif = pd.DataFrame()\n",
    "vif[\"VIF Factor\"] = [variance_inflation_factor(x_centered_df.values, i) for i in range(x_centered_df.shape[1])]\n",
    "vif[\"features\"] = x_centered_df.columns"
   ]
  },
  {
   "cell_type": "code",
   "execution_count": 73,
   "metadata": {
    "scrolled": true
   },
   "outputs": [
    {
     "data": {
      "text/html": [
       "<div>\n",
       "<style>\n",
       "    .dataframe thead tr:only-child th {\n",
       "        text-align: right;\n",
       "    }\n",
       "\n",
       "    .dataframe thead th {\n",
       "        text-align: left;\n",
       "    }\n",
       "\n",
       "    .dataframe tbody tr th {\n",
       "        vertical-align: top;\n",
       "    }\n",
       "</style>\n",
       "<table border=\"1\" class=\"dataframe\">\n",
       "  <thead>\n",
       "    <tr style=\"text-align: right;\">\n",
       "      <th></th>\n",
       "      <th>VIF Factor</th>\n",
       "      <th>features</th>\n",
       "    </tr>\n",
       "  </thead>\n",
       "  <tbody>\n",
       "    <tr>\n",
       "      <th>0</th>\n",
       "      <td>847.8</td>\n",
       "      <td>High</td>\n",
       "    </tr>\n",
       "    <tr>\n",
       "      <th>1</th>\n",
       "      <td>775.6</td>\n",
       "      <td>Low</td>\n",
       "    </tr>\n",
       "    <tr>\n",
       "      <th>2</th>\n",
       "      <td>1533.5</td>\n",
       "      <td>Close</td>\n",
       "    </tr>\n",
       "  </tbody>\n",
       "</table>\n",
       "</div>"
      ],
      "text/plain": [
       "   VIF Factor features\n",
       "0       847.8     High\n",
       "1       775.6      Low\n",
       "2      1533.5    Close"
      ]
     },
     "execution_count": 73,
     "metadata": {},
     "output_type": "execute_result"
    }
   ],
   "source": [
    "vif.round(1)"
   ]
  },
  {
   "cell_type": "markdown",
   "metadata": {},
   "source": [
    "It reduces a lot"
   ]
  },
  {
   "cell_type": "markdown",
   "metadata": {},
   "source": [
    "#### No auto-correlation"
   ]
  },
  {
   "cell_type": "code",
   "execution_count": 74,
   "metadata": {
    "scrolled": true
   },
   "outputs": [
    {
     "name": "stdout",
     "output_type": "stream",
     "text": [
      "Durbin-Watson: 0.18484\n"
     ]
    }
   ],
   "source": [
    "DW = np.sum( np.diff( model.resid.values )**2.0 ) / model.ssr\n",
    "print('Durbin-Watson: {:.5f}'.format(DW))"
   ]
  },
  {
   "cell_type": "markdown",
   "metadata": {},
   "source": [
    "Values greater than two suggest negative correlation, \n",
    "\n",
    "and values less that one suggest positive correlation.\n",
    "\n",
    "So there is no auto-correlation"
   ]
  },
  {
   "cell_type": "markdown",
   "metadata": {},
   "source": [
    "#### Homoscedasticity"
   ]
  },
  {
   "cell_type": "code",
   "execution_count": 75,
   "metadata": {},
   "outputs": [
    {
     "data": {
      "text/plain": [
       "[('F statistic', 114180551641.53809), ('p-value', 0.0)]"
      ]
     },
     "execution_count": 75,
     "metadata": {},
     "output_type": "execute_result"
    }
   ],
   "source": [
    "name = ['F statistic', 'p-value']\n",
    "test = sms.het_goldfeldquandt(model.resid, model.model.exog)\n",
    "lzip(name, test)"
   ]
  },
  {
   "cell_type": "markdown",
   "metadata": {},
   "source": [
    "The larger the F-statistic, the more evidence you’ll have against the homoskedasticity assumption \n",
    "\n",
    "and the more likely you have heteroskedasticity (different variance for the two groups)."
   ]
  },
  {
   "cell_type": "markdown",
   "metadata": {},
   "source": [
    "### Cross-validate the model. How well did it do?"
   ]
  },
  {
   "cell_type": "code",
   "execution_count": 77,
   "metadata": {
    "collapsed": true
   },
   "outputs": [],
   "source": [
    "# Load the Diabetes Housing dataset\n",
    "columns = \"High Low Close\".split() # Declare the columns names\n",
    "df = pd.DataFrame(st, columns=columns) # load the dataset as a pandas data frame\n",
    "y =  st[\"Adj Close\"] # define the target variable (dependent variable) as y"
   ]
  },
  {
   "cell_type": "code",
   "execution_count": 78,
   "metadata": {},
   "outputs": [
    {
     "name": "stdout",
     "output_type": "stream",
     "text": [
      "(3179, 3) (3179,)\n",
      "(1363, 3) (1363,)\n"
     ]
    }
   ],
   "source": [
    "# create training and testing vars\n",
    "X_train, X_test, y_train, y_test = train_test_split(df, y, test_size=0.3)\n",
    "print(X_train.shape, y_train.shape)\n",
    "print(X_test.shape, y_test.shape)"
   ]
  },
  {
   "cell_type": "code",
   "execution_count": 79,
   "metadata": {
    "collapsed": true
   },
   "outputs": [],
   "source": [
    "# fit a model\n",
    "lm = linear_model.LinearRegression()\n",
    "model = lm.fit(X_train, y_train)\n",
    "predictions = lm.predict(X_test)"
   ]
  },
  {
   "cell_type": "code",
   "execution_count": 80,
   "metadata": {},
   "outputs": [
    {
     "data": {
      "text/plain": [
       "array([ 35.59710056,  47.95057457,  30.40725332,  22.60928086,  25.81443431])"
      ]
     },
     "execution_count": 80,
     "metadata": {},
     "output_type": "execute_result"
    }
   ],
   "source": [
    "#show first 5 predictions\n",
    "predictions[0:5]"
   ]
  },
  {
   "cell_type": "code",
   "execution_count": 81,
   "metadata": {},
   "outputs": [
    {
     "name": "stdout",
     "output_type": "stream",
     "text": [
      "Score: 0.997046713373\n"
     ]
    },
    {
     "data": {
      "image/png": "[encoded data removed]",
      "text/plain": [
       "<matplotlib.figure.Figure at 0x11a29b8d0>"
      ]
     },
     "metadata": {},
     "output_type": "display_data"
    }
   ],
   "source": [
    "# The line / model\n",
    "plt.scatter(y_test, predictions)\n",
    "plt.xlabel(\"True Values\")\n",
    "plt.ylabel(\"Predictions\")\n",
    "\n",
    "print(\"Score:\", model.score(X_test, y_test))"
   ]
  },
  {
   "cell_type": "code",
   "execution_count": 82,
   "metadata": {},
   "outputs": [
    {
     "name": "stdout",
     "output_type": "stream",
     "text": [
      "Cross-validated scores: [ 0.99084211  0.70149508  0.97686182  0.97839219  0.98508995  0.817286  ]\n"
     ]
    }
   ],
   "source": [
    "# Perform 6-fold cross validation\n",
    "scores = cross_val_score(model, df, y, cv=6)\n",
    "print(\"Cross-validated scores:\", scores)"
   ]
  },
  {
   "cell_type": "code",
   "execution_count": 83,
   "metadata": {},
   "outputs": [
    {
     "data": {
      "text/plain": [
       "<matplotlib.collections.PathCollection at 0x1c21c634e0>"
      ]
     },
     "execution_count": 83,
     "metadata": {},
     "output_type": "execute_result"
    },
    {
     "data": {
      "image/png": "[encoded data removed]",
      "text/plain": [
       "<matplotlib.figure.Figure at 0x1c20f237f0>"
      ]
     },
     "metadata": {},
     "output_type": "display_data"
    }
   ],
   "source": [
    "# Make cross validated predictions\n",
    "predictions = cross_val_predict(model, df, y, cv=6)\n",
    "plt.scatter(y, predictions)"
   ]
  },
  {
   "cell_type": "code",
   "execution_count": 84,
   "metadata": {},
   "outputs": [
    {
     "name": "stdout",
     "output_type": "stream",
     "text": [
      "Cross-Predicted Accuracy: 0.992402218245\n"
     ]
    }
   ],
   "source": [
    "accuracy = metrics.r2_score(y, predictions)\n",
    "print(\"Cross-Predicted Accuracy:\", accuracy)"
   ]
  },
  {
   "cell_type": "markdown",
   "metadata": {},
   "source": [
    "### Does regularization help with creating models that validate better on out of sample data?"
   ]
  },
  {
   "cell_type": "code",
   "execution_count": 85,
   "metadata": {},
   "outputs": [
    {
     "data": {
      "text/plain": [
       "Ridge(alpha=0.5, copy_X=True, fit_intercept=True, max_iter=None,\n",
       "   normalize=False, random_state=None, solver='auto', tol=0.001)"
      ]
     },
     "execution_count": 85,
     "metadata": {},
     "output_type": "execute_result"
    }
   ],
   "source": [
    "# Ridge regression with an alpha of 0.5\n",
    "ridge = Ridge(fit_intercept=True, alpha=0.5)\n",
    "ridge.fit(X_train,y_train)"
   ]
  },
  {
   "cell_type": "code",
   "execution_count": 86,
   "metadata": {},
   "outputs": [
    {
     "data": {
      "text/plain": [
       "Text(0.5,1,'Ridge Regression - Prices vs Predicted prices: $Y_i$ vs $\\\\hat{y}_i$')"
      ]
     },
     "execution_count": 86,
     "metadata": {},
     "output_type": "execute_result"
    },
    {
     "data": {
      "image/png": "[encoded data removed]",
      "text/plain": [
       "<matplotlib.figure.Figure at 0x1c2175d0f0>"
      ]
     },
     "metadata": {},
     "output_type": "display_data"
    }
   ],
   "source": [
    "y_pred = ridge.predict(X_test)\n",
    "\n",
    "plt.scatter(y_test, y_pred)\n",
    "plt.xlabel(\"Prices: $Y_i$\")\n",
    "plt.ylabel(\"Predicted prices: $\\hat{y}_i$\")\n",
    "plt.title(\"Ridge Regression - Prices vs Predicted prices: $Y_i$ vs $\\hat{y}_i$\")"
   ]
  },
  {
   "cell_type": "code",
   "execution_count": 87,
   "metadata": {},
   "outputs": [
    {
     "data": {
      "text/plain": [
       "0.62297470581533487"
      ]
     },
     "execution_count": 87,
     "metadata": {},
     "output_type": "execute_result"
    }
   ],
   "source": [
    "rmse = np.sqrt(metrics.mean_squared_error(y_test, y_pred))\n",
    "rmse"
   ]
  },
  {
   "cell_type": "code",
   "execution_count": 88,
   "metadata": {
    "scrolled": false
   },
   "outputs": [
    {
     "data": {
      "text/plain": [
       "[0.62295428654856455, 0.62295428654856455]"
      ]
     },
     "execution_count": 88,
     "metadata": {},
     "output_type": "execute_result"
    }
   ],
   "source": [
    "# RMSE using 5-fold cross-validation\n",
    "\n",
    "kf = KFold(len(X), n_folds=2)\n",
    "scores = []\n",
    "for train, test in kf:\n",
    "    lm.fit(X_train,y_train)\n",
    "    scores.append(np.sqrt(metrics.mean_squared_error(y_test, lm.predict(X_test))))\n",
    "scores"
   ]
  },
  {
   "cell_type": "code",
   "execution_count": 89,
   "metadata": {
    "collapsed": true
   },
   "outputs": [],
   "source": [
    "def show_stats(m, ncv, cv):\n",
    "  print('Method: %s' %m)\n",
    "  print('RMSE on no CV training: %.3f' %ncv)\n",
    "  print('RMSE on 5-fold CV: %.3f' %cv)"
   ]
  },
  {
   "cell_type": "code",
   "execution_count": 90,
   "metadata": {},
   "outputs": [
    {
     "name": "stdout",
     "output_type": "stream",
     "text": [
      "Method: Ridge Regression\n",
      "RMSE on no CV training: 0.623\n",
      "RMSE on 5-fold CV: 0.623\n"
     ]
    }
   ],
   "source": [
    "show_stats('Ridge Regression',rmse ,np.mean(scores))"
   ]
  },
  {
   "cell_type": "code",
   "execution_count": 91,
   "metadata": {
    "scrolled": false
   },
   "outputs": [
    {
     "name": "stdout",
     "output_type": "stream",
     "text": [
      "Ridge Regression\n",
      "alpha\t RMSE_train\t RMSE_cv\n",
      "\n",
      "0.010\t 0.6362\t\t 0.7631\n",
      "0.418\t 0.6362\t\t 0.7631\n",
      "0.826\t 0.6362\t\t 0.7631\n",
      "1.234\t 0.6362\t\t 0.7631\n",
      "1.642\t 0.6362\t\t 0.7632\n",
      "2.050\t 0.6362\t\t 0.7632\n",
      "2.458\t 0.6362\t\t 0.7632\n",
      "2.866\t 0.6362\t\t 0.7632\n",
      "3.274\t 0.6362\t\t 0.7632\n",
      "3.682\t 0.6362\t\t 0.7633\n",
      "4.090\t 0.6362\t\t 0.7633\n",
      "4.498\t 0.6362\t\t 0.7633\n",
      "4.906\t 0.6363\t\t 0.7633\n",
      "5.313\t 0.6363\t\t 0.7634\n",
      "5.721\t 0.6363\t\t 0.7634\n",
      "6.129\t 0.6363\t\t 0.7634\n",
      "6.537\t 0.6363\t\t 0.7634\n",
      "6.945\t 0.6363\t\t 0.7635\n",
      "7.353\t 0.6363\t\t 0.7635\n",
      "7.761\t 0.6363\t\t 0.7635\n",
      "8.169\t 0.6363\t\t 0.7636\n",
      "8.577\t 0.6363\t\t 0.7636\n",
      "8.985\t 0.6363\t\t 0.7636\n",
      "9.393\t 0.6363\t\t 0.7636\n",
      "9.801\t 0.6363\t\t 0.7637\n",
      "10.209\t 0.6363\t\t 0.7637\n",
      "10.617\t 0.6363\t\t 0.7637\n",
      "11.025\t 0.6363\t\t 0.7638\n",
      "11.433\t 0.6363\t\t 0.7638\n",
      "11.841\t 0.6363\t\t 0.7638\n",
      "12.249\t 0.6363\t\t 0.7639\n",
      "12.657\t 0.6363\t\t 0.7639\n",
      "13.065\t 0.6363\t\t 0.7639\n",
      "13.473\t 0.6363\t\t 0.7640\n",
      "13.881\t 0.6363\t\t 0.7640\n",
      "14.289\t 0.6363\t\t 0.7640\n",
      "14.697\t 0.6364\t\t 0.7640\n",
      "15.104\t 0.6364\t\t 0.7641\n",
      "15.512\t 0.6364\t\t 0.7641\n",
      "15.920\t 0.6364\t\t 0.7642\n",
      "16.328\t 0.6364\t\t 0.7642\n",
      "16.736\t 0.6364\t\t 0.7642\n",
      "17.144\t 0.6364\t\t 0.7643\n",
      "17.552\t 0.6364\t\t 0.7643\n",
      "17.960\t 0.6364\t\t 0.7643\n",
      "18.368\t 0.6364\t\t 0.7644\n",
      "18.776\t 0.6364\t\t 0.7644\n",
      "19.184\t 0.6364\t\t 0.7644\n",
      "19.592\t 0.6364\t\t 0.7645\n",
      "20.000\t 0.6364\t\t 0.7645\n"
     ]
    }
   ],
   "source": [
    "print('Ridge Regression')\n",
    "print('alpha\\t RMSE_train\\t RMSE_cv\\n')\n",
    "alpha = np.linspace(.01,20,50)\n",
    "t_rmse = np.array([])\n",
    "cv_rmse = np.array([])\n",
    "\n",
    "\n",
    "for a in alpha:\n",
    "    ridge = Ridge(fit_intercept=True, alpha=a)  \n",
    "    # computing the RMSE on training data\n",
    "    ridge.fit(X,y)\n",
    "    y_pred = ridge.predict(X)\n",
    "    err = y_pred-y    \n",
    "    # Dot product of error vector with itself gives us the sum of squared errors\n",
    "    total_error = np.dot(err,err)\n",
    "    rmse_train = np.sqrt(total_error/len(y_pred))\n",
    "\n",
    "    # computing RMSE using 5-fold cross validation\n",
    "    kf = KFold(len(X), n_folds=5)\n",
    "    xval_err = 0\n",
    "    for train, test in kf:\n",
    "        ridge.fit(X_train, y_train)\n",
    "        y_pred = ridge.predict(X_test)\n",
    "        err = y_pred - y_test\n",
    "        xval_err += np.dot(err,err)\n",
    "    rmse_cv = np.sqrt(xval_err/len(X))\n",
    "    \n",
    "    t_rmse = np.append(t_rmse, [rmse_train])\n",
    "    cv_rmse = np.append(cv_rmse, [rmse_cv])\n",
    "    print('{:.3f}\\t {:.4f}\\t\\t {:.4f}'.format(a,rmse_train,rmse_cv))"
   ]
  },
  {
   "cell_type": "code",
   "execution_count": 92,
   "metadata": {},
   "outputs": [
    {
     "data": {
      "image/png": "[encoded data removed]",
      "text/plain": [
       "<matplotlib.figure.Figure at 0x10d252780>"
      ]
     },
     "metadata": {},
     "output_type": "display_data"
    }
   ],
   "source": [
    "pl.plot(alpha, t_rmse, label='RMSE-Train')\n",
    "pl.plot(alpha, cv_rmse, label='RMSE_Cross_Val')\n",
    "pl.legend( ('Ridge RMSE-Train', 'Ridge RMSE_Cross_Val') )\n",
    "pl.ylabel('RMSE')\n",
    "pl.xlabel('Alpha')\n",
    "pl.show()"
   ]
  },
  {
   "cell_type": "markdown",
   "metadata": {},
   "source": [
    "### Generate a logistic model for your data:\n",
    "#### Find a significant logistic linear model of your choosing in your data. Create a logistic linear model."
   ]
  },
  {
   "cell_type": "code",
   "execution_count": 93,
   "metadata": {
    "scrolled": false
   },
   "outputs": [
    {
     "name": "stdout",
     "output_type": "stream",
     "text": [
      "Optimization terminated successfully.\n",
      "         Current function value: 0.678093\n",
      "         Iterations 1\n"
     ]
    },
    {
     "data": {
      "text/html": [
       "<table class=\"simpletable\">\n",
       "<caption>Logit Regression Results</caption>\n",
       "<tr>\n",
       "  <th>Dep. Variable:</th>       <td>Gain</td>       <th>  No. Observations:  </th>  <td>  4542</td> \n",
       "</tr>\n",
       "<tr>\n",
       "  <th>Model:</th>               <td>Logit</td>      <th>  Df Residuals:      </th>  <td>  4541</td> \n",
       "</tr>\n",
       "<tr>\n",
       "  <th>Method:</th>               <td>MLE</td>       <th>  Df Model:          </th>  <td>     0</td> \n",
       "</tr>\n",
       "<tr>\n",
       "  <th>Date:</th>          <td>Mon, 12 Feb 2018</td> <th>  Pseudo R-squ.:     </th> <td>-0.04771</td>\n",
       "</tr>\n",
       "<tr>\n",
       "  <th>Time:</th>              <td>14:14:32</td>     <th>  Log-Likelihood:    </th> <td> -3079.9</td>\n",
       "</tr>\n",
       "<tr>\n",
       "  <th>converged:</th>           <td>True</td>       <th>  LL-Null:           </th> <td> -2939.6</td>\n",
       "</tr>\n",
       "<tr>\n",
       "  <th> </th>                      <td> </td>        <th>  LLR p-value:       </th>  <td>   nan</td> \n",
       "</tr>\n",
       "</table>\n",
       "<table class=\"simpletable\">\n",
       "<tr>\n",
       "     <td></td>       <th>coef</th>     <th>std err</th>      <th>z</th>      <th>P>|z|</th>  <th>[0.025</th>    <th>0.975]</th>  \n",
       "</tr>\n",
       "<tr>\n",
       "  <th>Volume</th> <td> 8.766e-09</td> <td> 7.94e-10</td> <td>   11.039</td> <td> 0.000</td> <td> 7.21e-09</td> <td> 1.03e-08</td>\n",
       "</tr>\n",
       "</table>"
      ],
      "text/plain": [
       "<class 'statsmodels.iolib.summary.Summary'>\n",
       "\"\"\"\n",
       "                           Logit Regression Results                           \n",
       "==============================================================================\n",
       "Dep. Variable:                   Gain   No. Observations:                 4542\n",
       "Model:                          Logit   Df Residuals:                     4541\n",
       "Method:                           MLE   Df Model:                            0\n",
       "Date:                Mon, 12 Feb 2018   Pseudo R-squ.:                -0.04771\n",
       "Time:                        14:14:32   Log-Likelihood:                -3079.9\n",
       "converged:                       True   LL-Null:                       -2939.6\n",
       "                                        LLR p-value:                       nan\n",
       "==============================================================================\n",
       "                 coef    std err          z      P>|z|      [0.025      0.975]\n",
       "------------------------------------------------------------------------------\n",
       "Volume      8.766e-09   7.94e-10     11.039      0.000    7.21e-09    1.03e-08\n",
       "==============================================================================\n",
       "\"\"\""
      ]
     },
     "execution_count": 93,
     "metadata": {},
     "output_type": "execute_result"
    }
   ],
   "source": [
    "stock_log_model = sm.Logit(st['Gain'], st['Volume']).fit()\n",
    "stock_log_model.summary()"
   ]
  },
  {
   "cell_type": "code",
   "execution_count": 94,
   "metadata": {},
   "outputs": [
    {
     "data": {
      "text/html": [
       "<div>\n",
       "<style>\n",
       "    .dataframe thead tr:only-child th {\n",
       "        text-align: right;\n",
       "    }\n",
       "\n",
       "    .dataframe thead th {\n",
       "        text-align: left;\n",
       "    }\n",
       "\n",
       "    .dataframe tbody tr th {\n",
       "        vertical-align: top;\n",
       "    }\n",
       "</style>\n",
       "<table border=\"1\" class=\"dataframe\">\n",
       "  <thead>\n",
       "    <tr style=\"text-align: right;\">\n",
       "      <th></th>\n",
       "      <th>0</th>\n",
       "      <th>1</th>\n",
       "    </tr>\n",
       "  </thead>\n",
       "  <tbody>\n",
       "    <tr>\n",
       "      <th>Volume</th>\n",
       "      <td>7.209443e-09</td>\n",
       "      <td>1.032222e-08</td>\n",
       "    </tr>\n",
       "  </tbody>\n",
       "</table>\n",
       "</div>"
      ],
      "text/plain": [
       "                   0             1\n",
       "Volume  7.209443e-09  1.032222e-08"
      ]
     },
     "execution_count": 94,
     "metadata": {},
     "output_type": "execute_result"
    }
   ],
   "source": [
    "stock_log_model.conf_int()"
   ]
  },
  {
   "cell_type": "code",
   "execution_count": 95,
   "metadata": {},
   "outputs": [
    {
     "data": {
      "text/plain": [
       "Volume    1.0\n",
       "dtype: float64"
      ]
     },
     "execution_count": 95,
     "metadata": {},
     "output_type": "execute_result"
    }
   ],
   "source": [
    "#odds ratio\n",
    "#Take the exponential of each of the coefficients to generate the odds ratios. \n",
    "np.exp(stock_log_model.params)"
   ]
  },
  {
   "cell_type": "code",
   "execution_count": 96,
   "metadata": {},
   "outputs": [
    {
     "data": {
      "text/html": [
       "<div>\n",
       "<style>\n",
       "    .dataframe thead tr:only-child th {\n",
       "        text-align: right;\n",
       "    }\n",
       "\n",
       "    .dataframe thead th {\n",
       "        text-align: left;\n",
       "    }\n",
       "\n",
       "    .dataframe tbody tr th {\n",
       "        vertical-align: top;\n",
       "    }\n",
       "</style>\n",
       "<table border=\"1\" class=\"dataframe\">\n",
       "  <thead>\n",
       "    <tr style=\"text-align: right;\">\n",
       "      <th></th>\n",
       "      <th>2.5%</th>\n",
       "      <th>97.5%</th>\n",
       "      <th>OddsRatio</th>\n",
       "    </tr>\n",
       "  </thead>\n",
       "  <tbody>\n",
       "    <tr>\n",
       "      <th>Volume</th>\n",
       "      <td>1.0</td>\n",
       "      <td>1.0</td>\n",
       "      <td>1.0</td>\n",
       "    </tr>\n",
       "  </tbody>\n",
       "</table>\n",
       "</div>"
      ],
      "text/plain": [
       "        2.5%  97.5%  OddsRatio\n",
       "Volume   1.0    1.0        1.0"
      ]
     },
     "execution_count": 96,
     "metadata": {},
     "output_type": "execute_result"
    }
   ],
   "source": [
    "# odds ratios and 95% CI\n",
    "params = stock_log_model.params\n",
    "conf = stock_log_model.conf_int()\n",
    "conf['OR'] = params\n",
    "conf.columns = ['2.5%', '97.5%', 'OddsRatio']\n",
    "np.exp(conf)"
   ]
  },
  {
   "cell_type": "code",
   "execution_count": 97,
   "metadata": {
    "collapsed": true
   },
   "outputs": [],
   "source": [
    "X = st[[\"Volume\"]]\n",
    "y = st[[\"Gain\"]]"
   ]
  },
  {
   "cell_type": "code",
   "execution_count": 98,
   "metadata": {},
   "outputs": [
    {
     "data": {
      "text/plain": [
       "LogisticRegression(C=1.0, class_weight=None, dual=False, fit_intercept=True,\n",
       "          intercept_scaling=1, max_iter=100, multi_class='ovr', n_jobs=1,\n",
       "          penalty='l2', random_state=None, solver='liblinear', tol=0.0001,\n",
       "          verbose=0, warm_start=False)"
      ]
     },
     "execution_count": 98,
     "metadata": {},
     "output_type": "execute_result"
    }
   ],
   "source": [
    "X_train, X_test, y_train, y_test = train_test_split(X, y, test_size=0.3, random_state=0)\n",
    "logreg = LogisticRegression()\n",
    "logreg.fit(X_train, y_train)"
   ]
  },
  {
   "cell_type": "markdown",
   "metadata": {},
   "source": [
    "y_pred = logreg.predict(X_test)\n",
    "print('Accuracy of logistic regression classifier on test set: {:.2f}'.format(logreg.score(X_test, y_test)))"
   ]
  },
  {
   "cell_type": "code",
   "execution_count": 99,
   "metadata": {},
   "outputs": [
    {
     "name": "stdout",
     "output_type": "stream",
     "text": [
      "10-fold cross validation average accuracy: 0.657\n"
     ]
    }
   ],
   "source": [
    "kfold = model_selection.KFold(n_splits=10, random_state=7)\n",
    "modelCV = LogisticRegression()\n",
    "scoring = 'accuracy'\n",
    "results = model_selection.cross_val_score(modelCV, X_train, y_train, cv=kfold, scoring=scoring)\n",
    "print(\"10-fold cross validation average accuracy: %.3f\" % (results.mean()))"
   ]
  },
  {
   "cell_type": "markdown",
   "metadata": {},
   "source": [
    "### Assumption\n",
    "#### 1)binary logistic regression requires the dependent variable to be binary and ordinal logistic regression requires the dependent variable to be ordinal"
   ]
  },
  {
   "cell_type": "markdown",
   "metadata": {},
   "source": [
    "#### 2)logistic regression requires the observations to be independent of each other. \n",
    "\n",
    "Yes"
   ]
  },
  {
   "cell_type": "markdown",
   "metadata": {},
   "source": [
    "#### 3)logistic regression requires there to be little or no multicollinearity among the independent variables.  \n",
    "\n",
    "There is one variable so not related"
   ]
  },
  {
   "cell_type": "markdown",
   "metadata": {},
   "source": [
    "#### 4)logistic regression assumes linearity of independent variables and log odds.  "
   ]
  },
  {
   "cell_type": "code",
   "execution_count": 103,
   "metadata": {},
   "outputs": [
    {
     "name": "stdout",
     "output_type": "stream",
     "text": [
      "{0.0, 1.0}\n"
     ]
    }
   ],
   "source": [
    "Gain=st['Gain']\n",
    "uniqueFirstCol=set(Gain)\n",
    "print(uniqueFirstCol)"
   ]
  },
  {
   "cell_type": "markdown",
   "metadata": {},
   "source": [
    "So there is no log odd"
   ]
  },
  {
   "cell_type": "markdown",
   "metadata": {},
   "source": [
    "#### 5)logistic regression typically requires a large sample size. \n",
    "\n",
    "Yes"
   ]
  }
 ],
 "metadata": {
  "kernelspec": {
   "display_name": "Python 3",
   "language": "python",
   "name": "python3"
  },
  "language_info": {
   "codemirror_mode": {
    "name": "ipython",
    "version": 3
   },
   "file_extension": ".py",
   "mimetype": "text/x-python",
   "name": "python",
   "nbconvert_exporter": "python",
   "pygments_lexer": "ipython3",
   "version": "3.6.3"
  }
 },
 "nbformat": 4,
 "nbformat_minor": 2
}
